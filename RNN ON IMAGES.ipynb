{
 "cells": [
  {
   "cell_type": "code",
   "execution_count": 1,
   "id": "8770e948",
   "metadata": {},
   "outputs": [],
   "source": [
    "import tensorflow as tf\n",
    "import numpy as np\n",
    "import matplotlib.pyplot as plt"
   ]
  },
  {
   "cell_type": "code",
   "execution_count": 2,
   "id": "98b60bdf",
   "metadata": {},
   "outputs": [],
   "source": [
    "tf.random.set_seed(99)"
   ]
  },
  {
   "cell_type": "code",
   "execution_count": 3,
   "id": "ab5a8933",
   "metadata": {},
   "outputs": [],
   "source": [
    "fas_mnist=tf.keras.datasets.fashion_mnist"
   ]
  },
  {
   "cell_type": "code",
   "execution_count": 4,
   "id": "93e65478",
   "metadata": {},
   "outputs": [
    {
     "name": "stdout",
     "output_type": "stream",
     "text": [
      "Downloading data from https://storage.googleapis.com/tensorflow/tf-keras-datasets/train-labels-idx1-ubyte.gz\n",
      "29515/29515 [==============================] - 0s 0us/step\n",
      "Downloading data from https://storage.googleapis.com/tensorflow/tf-keras-datasets/train-images-idx3-ubyte.gz\n",
      "26421880/26421880 [==============================] - 3s 0us/step\n",
      "Downloading data from https://storage.googleapis.com/tensorflow/tf-keras-datasets/t10k-labels-idx1-ubyte.gz\n",
      "5148/5148 [==============================] - 0s 0us/step\n",
      "Downloading data from https://storage.googleapis.com/tensorflow/tf-keras-datasets/t10k-images-idx3-ubyte.gz\n",
      "4422102/4422102 [==============================] - 0s 0us/step\n"
     ]
    }
   ],
   "source": [
    "(train_images,train_labels),(test_images,test_labels)=fas_mnist.load_data()"
   ]
  },
  {
   "cell_type": "code",
   "execution_count": 5,
   "id": "cfeb99f2",
   "metadata": {},
   "outputs": [],
   "source": [
    "train_images=train_images.reshape(60000, 28, 28)\n",
    "train_images=train_images / 255.0 #Standardising\n",
    "test_images = test_images.reshape(10000, 28, 28)\n",
    "test_images=test_images/255.0 #Standardising"
   ]
  },
  {
   "cell_type": "code",
   "execution_count": 6,
   "id": "4043a4f2",
   "metadata": {},
   "outputs": [],
   "source": [
    "model = tf.keras.Sequential([\n",
    "  tf.keras.Input(shape=(28,28)),\n",
    "  tf.keras.layers.GRU(128),\n",
    "  tf.keras.layers.Dense(128, activation='relu',input_shape=(28, 28, )),\n",
    "  tf.keras.layers.Dropout(0.2,input_shape=(128,)),\n",
    "  tf.keras.layers.Dense(10, activation='softmax')\n",
    "])"
   ]
  },
  {
   "cell_type": "code",
   "execution_count": 7,
   "id": "7e3d2107",
   "metadata": {},
   "outputs": [
    {
     "name": "stdout",
     "output_type": "stream",
     "text": [
      "Model: \"sequential\"\n",
      "_________________________________________________________________\n",
      " Layer (type)                Output Shape              Param #   \n",
      "=================================================================\n",
      " gru (GRU)                   (None, 128)               60672     \n",
      "                                                                 \n",
      " dense (Dense)               (None, 128)               16512     \n",
      "                                                                 \n",
      " dropout (Dropout)           (None, 128)               0         \n",
      "                                                                 \n",
      " dense_1 (Dense)             (None, 10)                1290      \n",
      "                                                                 \n",
      "=================================================================\n",
      "Total params: 78474 (306.54 KB)\n",
      "Trainable params: 78474 (306.54 KB)\n",
      "Non-trainable params: 0 (0.00 Byte)\n",
      "_________________________________________________________________\n"
     ]
    }
   ],
   "source": [
    "model.summary()"
   ]
  },
  {
   "cell_type": "code",
   "execution_count": 8,
   "id": "768ad061",
   "metadata": {},
   "outputs": [],
   "source": [
    "model.compile(optimizer='adam', loss='sparse_categorical_crossentropy', metrics=['accuracy'])"
   ]
  },
  {
   "cell_type": "code",
   "execution_count": 9,
   "id": "c4782b67",
   "metadata": {},
   "outputs": [],
   "source": [
    "def scheduler(epoch, lr):\n",
    "      if epoch < 8:\n",
    "        return lr\n",
    "      else:\n",
    "        return lr * tf.math.exp(-0.1)"
   ]
  },
  {
   "cell_type": "code",
   "execution_count": 10,
   "id": "cdc5bf20",
   "metadata": {},
   "outputs": [],
   "source": [
    "my_callbacks = [\n",
    "    tf.keras.callbacks.EarlyStopping(monitor=\"val_loss\",patience=2),\n",
    "    tf.keras.callbacks.LearningRateScheduler(scheduler)\n",
    "]"
   ]
  },
  {
   "cell_type": "code",
   "execution_count": 11,
   "id": "301b22c6",
   "metadata": {},
   "outputs": [
    {
     "name": "stdout",
     "output_type": "stream",
     "text": [
      "Epoch 1/20\n",
      "1875/1875 [==============================] - 18s 9ms/step - loss: 0.6250 - accuracy: 0.7658 - val_loss: 0.4451 - val_accuracy: 0.8373 - lr: 0.0010\n",
      "Epoch 2/20\n",
      "1875/1875 [==============================] - 18s 9ms/step - loss: 0.3967 - accuracy: 0.8564 - val_loss: 0.3822 - val_accuracy: 0.8598 - lr: 0.0010\n",
      "Epoch 3/20\n",
      "1875/1875 [==============================] - 19s 10ms/step - loss: 0.3500 - accuracy: 0.8716 - val_loss: 0.3585 - val_accuracy: 0.8685 - lr: 0.0010\n",
      "Epoch 4/20\n",
      "1875/1875 [==============================] - 18s 10ms/step - loss: 0.3197 - accuracy: 0.8813 - val_loss: 0.3266 - val_accuracy: 0.8801 - lr: 0.0010\n",
      "Epoch 5/20\n",
      "1875/1875 [==============================] - 18s 10ms/step - loss: 0.2976 - accuracy: 0.8892 - val_loss: 0.3186 - val_accuracy: 0.8856 - lr: 0.0010\n",
      "Epoch 6/20\n",
      "1875/1875 [==============================] - 19s 10ms/step - loss: 0.2817 - accuracy: 0.8967 - val_loss: 0.3040 - val_accuracy: 0.8903 - lr: 0.0010\n",
      "Epoch 7/20\n",
      "1875/1875 [==============================] - 18s 9ms/step - loss: 0.2637 - accuracy: 0.9011 - val_loss: 0.3024 - val_accuracy: 0.8923 - lr: 0.0010\n",
      "Epoch 8/20\n",
      "1875/1875 [==============================] - 18s 10ms/step - loss: 0.2512 - accuracy: 0.9065 - val_loss: 0.3015 - val_accuracy: 0.8902 - lr: 0.0010\n",
      "Epoch 9/20\n",
      "1875/1875 [==============================] - 17s 9ms/step - loss: 0.2349 - accuracy: 0.9112 - val_loss: 0.2911 - val_accuracy: 0.8947 - lr: 9.0484e-04\n",
      "Epoch 10/20\n",
      "1875/1875 [==============================] - 18s 10ms/step - loss: 0.2205 - accuracy: 0.9175 - val_loss: 0.2848 - val_accuracy: 0.8997 - lr: 8.1873e-04\n",
      "Epoch 11/20\n",
      "1875/1875 [==============================] - 17s 9ms/step - loss: 0.2061 - accuracy: 0.9216 - val_loss: 0.2872 - val_accuracy: 0.9015 - lr: 7.4082e-04\n",
      "Epoch 12/20\n",
      "1875/1875 [==============================] - 18s 9ms/step - loss: 0.1944 - accuracy: 0.9254 - val_loss: 0.2765 - val_accuracy: 0.9039 - lr: 6.7032e-04\n",
      "Epoch 13/20\n",
      "1875/1875 [==============================] - 17s 9ms/step - loss: 0.1821 - accuracy: 0.9310 - val_loss: 0.2822 - val_accuracy: 0.9049 - lr: 6.0653e-04\n",
      "Epoch 14/20\n",
      "1875/1875 [==============================] - 17s 9ms/step - loss: 0.1701 - accuracy: 0.9350 - val_loss: 0.2777 - val_accuracy: 0.9060 - lr: 5.4881e-04\n"
     ]
    }
   ],
   "source": [
    "trainer=model.fit(train_images, train_labels,validation_data=(test_images,test_labels), epochs=20,callbacks=my_callbacks)"
   ]
  },
  {
   "cell_type": "code",
   "execution_count": 12,
   "id": "aafaeeda",
   "metadata": {},
   "outputs": [
    {
     "data": {
      "text/plain": [
       "<matplotlib.legend.Legend at 0x1694af7d0>"
      ]
     },
     "execution_count": 12,
     "metadata": {},
     "output_type": "execute_result"
    },
    {
     "data": {
      "image/png": "[encoded data removed]",
      "text/plain": [
       "<Figure size 640x480 with 1 Axes>"
      ]
     },
     "metadata": {},
     "output_type": "display_data"
    }
   ],
   "source": [
    "# Plot loss per iteration\n",
    "plt.plot(trainer.history['loss'], label='loss')\n",
    "plt.plot(trainer.history['val_loss'], label='val_loss')\n",
    "plt.legend()"
   ]
  },
  {
   "cell_type": "code",
   "execution_count": null,
   "id": "49dff971",
   "metadata": {},
   "outputs": [],
   "source": []
  }
 ],
 "metadata": {
  "kernelspec": {
   "display_name": "Python 3 (ipykernel)",
   "language": "python",
   "name": "python3"
  },
  "language_info": {
   "codemirror_mode": {
    "name": "ipython",
    "version": 3
   },
   "file_extension": ".py",
   "mimetype": "text/x-python",
   "name": "python",
   "nbconvert_exporter": "python",
   "pygments_lexer": "ipython3",
   "version": "3.11.5"
  }
 },
 "nbformat": 4,
 "nbformat_minor": 5
}
