{
 "cells": [
  {
   "cell_type": "code",
   "execution_count": 1,
   "id": "94219756",
   "metadata": {
    "execution": {
     "iopub.execute_input": "2024-04-19T09:30:17.051427Z",
     "iopub.status.busy": "2024-04-19T09:30:17.051076Z",
     "iopub.status.idle": "2024-04-19T09:30:24.920350Z",
     "shell.execute_reply": "2024-04-19T09:30:24.919616Z"
    },
    "papermill": {
     "duration": 7.876541,
     "end_time": "2024-04-19T09:30:24.922623",
     "exception": false,
     "start_time": "2024-04-19T09:30:17.046082",
     "status": "completed"
    },
    "tags": []
   },
   "outputs": [],
   "source": [
    "import torch\n",
    "import torch.nn.functional as F\n",
    "from torch import nn, optim\n",
    "from torch.utils.data.sampler import SubsetRandomSampler\n",
    "from torchvision import transforms, models\n",
    "import matplotlib.pyplot as plt\n",
    "from tqdm import tqdm\n",
    "\n",
    "\n",
    "import pandas as pd\n",
    "import numpy as np\n",
    "\n",
    "import os"
   ]
  },
  {
   "cell_type": "code",
   "execution_count": 2,
   "id": "5edeeb52",
   "metadata": {
    "execution": {
     "iopub.execute_input": "2024-04-19T09:30:24.930840Z",
     "iopub.status.busy": "2024-04-19T09:30:24.930421Z",
     "iopub.status.idle": "2024-04-19T09:30:25.011218Z",
     "shell.execute_reply": "2024-04-19T09:30:25.010379Z"
    },
    "papermill": {
     "duration": 0.087009,
     "end_time": "2024-04-19T09:30:25.013301",
     "exception": false,
     "start_time": "2024-04-19T09:30:24.926292",
     "status": "completed"
    },
    "tags": []
   },
   "outputs": [
    {
     "name": "stdout",
     "output_type": "stream",
     "text": [
      "Training on GPU...\n"
     ]
    }
   ],
   "source": [
    "# Checking GPU is available\n",
    "train_on_gpu = torch.cuda.is_available()\n",
    "\n",
    "if not train_on_gpu:\n",
    "    print('Training on CPU...')\n",
    "else:\n",
    "    print('Training on GPU...')"
   ]
  },
  {
   "cell_type": "code",
   "execution_count": 3,
   "id": "e6c120d6",
   "metadata": {
    "execution": {
     "iopub.execute_input": "2024-04-19T09:30:25.021073Z",
     "iopub.status.busy": "2024-04-19T09:30:25.020790Z",
     "iopub.status.idle": "2024-04-19T09:30:25.027729Z",
     "shell.execute_reply": "2024-04-19T09:30:25.026896Z"
    },
    "papermill": {
     "duration": 0.013004,
     "end_time": "2024-04-19T09:30:25.029665",
     "exception": false,
     "start_time": "2024-04-19T09:30:25.016661",
     "status": "completed"
    },
    "tags": []
   },
   "outputs": [],
   "source": [
    "# Dataset responsible for manipulating data for training as well as training tests.\n",
    "class DatasetMNIST(torch.utils.data.Dataset):\n",
    "    def __init__(self, data, transform=None):\n",
    "        self.data = data\n",
    "        self.transform = transform\n",
    "        \n",
    "    def __len__(self):\n",
    "        return len(self.data)\n",
    "    \n",
    "    def __getitem__(self, index):\n",
    "        item = self.data.iloc[index]\n",
    "                \n",
    "        image = item[1:].values.astype(np.uint8).reshape((28, 28))\n",
    "        label = item[0]\n",
    "\n",
    "        \n",
    "        if self.transform is not None:\n",
    "            image = self.transform(image)\n",
    "            \n",
    "        \n",
    "        if self.transform is not None:\n",
    "            image = self.transform(image)\n",
    "            \n",
    "        return image, label"
   ]
  },
  {
   "cell_type": "code",
   "execution_count": 4,
   "id": "5a7ea13b",
   "metadata": {
    "execution": {
     "iopub.execute_input": "2024-04-19T09:30:25.037030Z",
     "iopub.status.busy": "2024-04-19T09:30:25.036767Z",
     "iopub.status.idle": "2024-04-19T09:30:28.413113Z",
     "shell.execute_reply": "2024-04-19T09:30:28.412087Z"
    },
    "papermill": {
     "duration": 3.382443,
     "end_time": "2024-04-19T09:30:28.415287",
     "exception": false,
     "start_time": "2024-04-19T09:30:25.032844",
     "status": "completed"
    },
    "tags": []
   },
   "outputs": [
    {
     "name": "stdout",
     "output_type": "stream",
     "text": [
      "Length train: 35700\n",
      "Length valid: 6300\n"
     ]
    }
   ],
   "source": [
    "BATCH_SIZE = 100\n",
    "VALID_SIZE = 0.15 # percentage of data for validation\n",
    "\n",
    "transform_train = transforms.Compose([\n",
    "    transforms.ToPILImage(),\n",
    "   # transforms.RandomRotation(0, 0.5),\n",
    "    transforms.ToTensor(),\n",
    "    transforms.Normalize(mean=(0.5,), std=(0.5,))\n",
    "])\n",
    "\n",
    "transform_valid = transforms.Compose([\n",
    "    transforms.ToPILImage(),\n",
    "    transforms.ToTensor(),\n",
    "    transforms.Normalize(mean=(0.5,), std=(0.5,))\n",
    "])\n",
    "\n",
    "# Importing data that will be used for training and validation\n",
    "dataset = pd.read_csv('/kaggle/input/digit-recognizer/train.csv')\n",
    "\n",
    "# Creating datasets for training and validation\n",
    "train_data = DatasetMNIST(dataset, transform=transform_train)\n",
    "valid_data = DatasetMNIST(dataset, transform=transform_valid)\n",
    "\n",
    "# Shuffling data and choosing data that will be used for training and validation\n",
    "num_train = len(train_data)\n",
    "indices = list(range(num_train))\n",
    "np.random.shuffle(indices)\n",
    "split = int(np.floor(VALID_SIZE * num_train))\n",
    "train_idx, valid_idx = indices[split:], indices[:split]\n",
    "\n",
    "train_sampler = SubsetRandomSampler(train_idx)\n",
    "valid_sampler = SubsetRandomSampler(valid_idx)\n",
    "\n",
    "train_loader = torch.utils.data.DataLoader(train_data, batch_size=BATCH_SIZE, sampler=train_sampler)\n",
    "valid_loader = torch.utils.data.DataLoader(valid_data, batch_size=BATCH_SIZE, sampler=valid_sampler)\n",
    "\n",
    "print(f\"Length train: {len(train_idx)}\")\n",
    "print(f\"Length valid: {len(valid_idx)}\")"
   ]
  },
  {
   "cell_type": "code",
   "execution_count": 5,
   "id": "17f2a8bb",
   "metadata": {
    "execution": {
     "iopub.execute_input": "2024-04-19T09:30:28.424120Z",
     "iopub.status.busy": "2024-04-19T09:30:28.423364Z",
     "iopub.status.idle": "2024-04-19T09:30:28.725011Z",
     "shell.execute_reply": "2024-04-19T09:30:28.724222Z"
    },
    "papermill": {
     "duration": 0.308243,
     "end_time": "2024-04-19T09:30:28.727219",
     "exception": false,
     "start_time": "2024-04-19T09:30:28.418976",
     "status": "completed"
    },
    "tags": []
   },
   "outputs": [
    {
     "name": "stdout",
     "output_type": "stream",
     "text": [
      "CNN(\n",
      "  (conv1): Sequential(\n",
      "    (0): Conv2d(1, 32, kernel_size=(3, 3), stride=(1, 1), padding=(1, 1))\n",
      "    (1): ReLU()\n",
      "    (2): BatchNorm2d(32, eps=1e-05, momentum=0.1, affine=True, track_running_stats=True)\n",
      "    (3): MaxPool2d(kernel_size=2, stride=2, padding=0, dilation=1, ceil_mode=False)\n",
      "    (4): Dropout(p=0.25, inplace=False)\n",
      "  )\n",
      "  (conv2): Sequential(\n",
      "    (0): Conv2d(32, 64, kernel_size=(3, 3), stride=(1, 1), padding=(1, 1))\n",
      "    (1): ReLU()\n",
      "    (2): BatchNorm2d(64, eps=1e-05, momentum=0.1, affine=True, track_running_stats=True)\n",
      "    (3): MaxPool2d(kernel_size=2, stride=2, padding=0, dilation=1, ceil_mode=False)\n",
      "    (4): Dropout(p=0.25, inplace=False)\n",
      "  )\n",
      "  (fc): Sequential(\n",
      "    (0): Linear(in_features=3136, out_features=100, bias=True)\n",
      "    (1): Linear(in_features=100, out_features=10, bias=True)\n",
      "  )\n",
      ")\n"
     ]
    }
   ],
   "source": [
    "class CNN(nn.Module):\n",
    "    def __init__(self):\n",
    "        super(CNN, self).__init__()\n",
    "        \n",
    "        self.conv1 = nn.Sequential(\n",
    "            nn.Conv2d(1, 32, 3, padding=1),\n",
    "            nn.ReLU(),\n",
    "            nn.BatchNorm2d(32),\n",
    "            nn.MaxPool2d(2, 2),\n",
    "            nn.Dropout(0.25)\n",
    "        )\n",
    "        \n",
    "        self.conv2 = nn.Sequential(\n",
    "            nn.Conv2d(32, 64, 3, padding=1),\n",
    "            nn.ReLU(),\n",
    "            nn.BatchNorm2d(64),\n",
    "            nn.MaxPool2d(2, 2),\n",
    "            nn.Dropout(0.25)\n",
    "        )\n",
    "        \n",
    "        \n",
    "        self.fc = nn.Sequential(\n",
    "            nn.Linear(3136, 100),\n",
    "            nn.Linear(100, 10),\n",
    "        )\n",
    "                \n",
    "        \n",
    "    def forward(self, x):\n",
    "        x = self.conv1(x)\n",
    "        x = self.conv2(x)\n",
    "        \n",
    "        x = x.view(x.size(0), -1)\n",
    "        x = self.fc(x)\n",
    "        return x\n",
    "\n",
    "model = CNN()\n",
    "print(model)\n",
    "\n",
    "if torch.cuda.is_available():\n",
    "    model = model.cuda()"
   ]
  },
  {
   "cell_type": "code",
   "execution_count": null,
   "id": "e9db3253",
   "metadata": {
    "papermill": {
     "duration": 0.003226,
     "end_time": "2024-04-19T09:30:28.734220",
     "exception": false,
     "start_time": "2024-04-19T09:30:28.730994",
     "status": "completed"
    },
    "tags": []
   },
   "outputs": [],
   "source": []
  },
  {
   "cell_type": "code",
   "execution_count": 6,
   "id": "32c3bbd9",
   "metadata": {
    "execution": {
     "iopub.execute_input": "2024-04-19T09:30:28.742112Z",
     "iopub.status.busy": "2024-04-19T09:30:28.741808Z",
     "iopub.status.idle": "2024-04-19T09:30:28.746346Z",
     "shell.execute_reply": "2024-04-19T09:30:28.745623Z"
    },
    "papermill": {
     "duration": 0.010691,
     "end_time": "2024-04-19T09:30:28.748235",
     "exception": false,
     "start_time": "2024-04-19T09:30:28.737544",
     "status": "completed"
    },
    "tags": []
   },
   "outputs": [],
   "source": [
    "LEARNING_RATE = 0.001680\n",
    "\n",
    "criterion = nn.CrossEntropyLoss()\n",
    "optimizer = optim.SGD(model.parameters(), lr=LEARNING_RATE)"
   ]
  },
  {
   "cell_type": "code",
   "execution_count": 7,
   "id": "57b828c0",
   "metadata": {
    "execution": {
     "iopub.execute_input": "2024-04-19T09:30:28.756213Z",
     "iopub.status.busy": "2024-04-19T09:30:28.755961Z",
     "iopub.status.idle": "2024-04-19T09:35:15.461046Z",
     "shell.execute_reply": "2024-04-19T09:35:15.460110Z"
    },
    "papermill": {
     "duration": 286.711691,
     "end_time": "2024-04-19T09:35:15.463316",
     "exception": false,
     "start_time": "2024-04-19T09:30:28.751625",
     "status": "completed"
    },
    "tags": []
   },
   "outputs": [
    {
     "name": "stderr",
     "output_type": "stream",
     "text": [
      "Epoch 1/10 - Training:   0%|          | 0/357 [00:00<?, ?it/s]/tmp/ipykernel_26/2741210528.py:14: FutureWarning: Series.__getitem__ treating keys as positions is deprecated. In a future version, integer keys will always be treated as labels (consistent with DataFrame behavior). To access a value by position, use `ser.iloc[pos]`\n",
      "  label = item[0]\n",
      "Epoch 1/10 - Training: 100%|██████████| 357/357 [00:26<00:00, 13.62it/s]\n",
      "Epoch 1/10 - Validation: 100%|██████████| 63/63 [00:04<00:00, 15.36it/s]\n"
     ]
    },
    {
     "name": "stdout",
     "output_type": "stream",
     "text": [
      "Epoch: 1/10.. \n",
      "Training Loss: 0.849.. \tTraining Accuracy: 0.776.. \n",
      "Validation Loss: 0.437.. \tValidation Accuracy: 0.897\n",
      "Detected network improvement, saving current model\n"
     ]
    },
    {
     "name": "stderr",
     "output_type": "stream",
     "text": [
      "Epoch 2/10 - Training: 100%|██████████| 357/357 [00:24<00:00, 14.72it/s]\n",
      "Epoch 2/10 - Validation: 100%|██████████| 63/63 [00:04<00:00, 15.32it/s]\n"
     ]
    },
    {
     "name": "stdout",
     "output_type": "stream",
     "text": [
      "Epoch: 2/10.. \n",
      "Training Loss: 0.360.. \tTraining Accuracy: 0.906.. \n",
      "Validation Loss: 0.290.. \tValidation Accuracy: 0.927\n",
      "Detected network improvement, saving current model\n"
     ]
    },
    {
     "name": "stderr",
     "output_type": "stream",
     "text": [
      "Epoch 3/10 - Training: 100%|██████████| 357/357 [00:24<00:00, 14.69it/s]\n",
      "Epoch 3/10 - Validation: 100%|██████████| 63/63 [00:03<00:00, 15.80it/s]\n"
     ]
    },
    {
     "name": "stdout",
     "output_type": "stream",
     "text": [
      "Epoch: 3/10.. \n",
      "Training Loss: 0.270.. \tTraining Accuracy: 0.927.. \n",
      "Validation Loss: 0.231.. \tValidation Accuracy: 0.936\n",
      "Detected network improvement, saving current model\n"
     ]
    },
    {
     "name": "stderr",
     "output_type": "stream",
     "text": [
      "Epoch 4/10 - Training: 100%|██████████| 357/357 [00:24<00:00, 14.54it/s]\n",
      "Epoch 4/10 - Validation: 100%|██████████| 63/63 [00:04<00:00, 15.49it/s]\n"
     ]
    },
    {
     "name": "stdout",
     "output_type": "stream",
     "text": [
      "Epoch: 4/10.. \n",
      "Training Loss: 0.225.. \tTraining Accuracy: 0.937.. \n",
      "Validation Loss: 0.198.. \tValidation Accuracy: 0.945\n",
      "Detected network improvement, saving current model\n"
     ]
    },
    {
     "name": "stderr",
     "output_type": "stream",
     "text": [
      "Epoch 5/10 - Training: 100%|██████████| 357/357 [00:24<00:00, 14.59it/s]\n",
      "Epoch 5/10 - Validation: 100%|██████████| 63/63 [00:04<00:00, 15.51it/s]\n"
     ]
    },
    {
     "name": "stdout",
     "output_type": "stream",
     "text": [
      "Epoch: 5/10.. \n",
      "Training Loss: 0.197.. \tTraining Accuracy: 0.944.. \n",
      "Validation Loss: 0.175.. \tValidation Accuracy: 0.951\n",
      "Detected network improvement, saving current model\n"
     ]
    },
    {
     "name": "stderr",
     "output_type": "stream",
     "text": [
      "Epoch 6/10 - Training: 100%|██████████| 357/357 [00:24<00:00, 14.60it/s]\n",
      "Epoch 6/10 - Validation: 100%|██████████| 63/63 [00:04<00:00, 15.20it/s]\n"
     ]
    },
    {
     "name": "stdout",
     "output_type": "stream",
     "text": [
      "Epoch: 6/10.. \n",
      "Training Loss: 0.177.. \tTraining Accuracy: 0.949.. \n",
      "Validation Loss: 0.158.. \tValidation Accuracy: 0.956\n",
      "Detected network improvement, saving current model\n"
     ]
    },
    {
     "name": "stderr",
     "output_type": "stream",
     "text": [
      "Epoch 7/10 - Training: 100%|██████████| 357/357 [00:24<00:00, 14.62it/s]\n",
      "Epoch 7/10 - Validation: 100%|██████████| 63/63 [00:04<00:00, 15.66it/s]\n"
     ]
    },
    {
     "name": "stdout",
     "output_type": "stream",
     "text": [
      "Epoch: 7/10.. \n",
      "Training Loss: 0.164.. \tTraining Accuracy: 0.953.. \n",
      "Validation Loss: 0.146.. \tValidation Accuracy: 0.959\n",
      "Detected network improvement, saving current model\n"
     ]
    },
    {
     "name": "stderr",
     "output_type": "stream",
     "text": [
      "Epoch 8/10 - Training: 100%|██████████| 357/357 [00:24<00:00, 14.55it/s]\n",
      "Epoch 8/10 - Validation: 100%|██████████| 63/63 [00:04<00:00, 15.28it/s]\n"
     ]
    },
    {
     "name": "stdout",
     "output_type": "stream",
     "text": [
      "Epoch: 8/10.. \n",
      "Training Loss: 0.151.. \tTraining Accuracy: 0.956.. \n",
      "Validation Loss: 0.139.. \tValidation Accuracy: 0.959\n",
      "Detected network improvement, saving current model\n"
     ]
    },
    {
     "name": "stderr",
     "output_type": "stream",
     "text": [
      "Epoch 9/10 - Training: 100%|██████████| 357/357 [00:24<00:00, 14.78it/s]\n",
      "Epoch 9/10 - Validation: 100%|██████████| 63/63 [00:04<00:00, 15.57it/s]\n"
     ]
    },
    {
     "name": "stdout",
     "output_type": "stream",
     "text": [
      "Epoch: 9/10.. \n",
      "Training Loss: 0.141.. \tTraining Accuracy: 0.959.. \n",
      "Validation Loss: 0.130.. \tValidation Accuracy: 0.961\n",
      "Detected network improvement, saving current model\n"
     ]
    },
    {
     "name": "stderr",
     "output_type": "stream",
     "text": [
      "Epoch 10/10 - Training: 100%|██████████| 357/357 [00:24<00:00, 14.65it/s]\n",
      "Epoch 10/10 - Validation: 100%|██████████| 63/63 [00:04<00:00, 15.05it/s]"
     ]
    },
    {
     "name": "stdout",
     "output_type": "stream",
     "text": [
      "Epoch: 10/10.. \n",
      "Training Loss: 0.134.. \tTraining Accuracy: 0.961.. \n",
      "Validation Loss: 0.123.. \tValidation Accuracy: 0.965\n",
      "Detected network improvement, saving current model\n"
     ]
    },
    {
     "name": "stderr",
     "output_type": "stream",
     "text": [
      "\n"
     ]
    }
   ],
   "source": [
    "epochs = 10\n",
    "valid_loss_min = np.Inf\n",
    "train_losses, valid_losses = [], []\n",
    "train_accuracies, valid_accuracies = [], []\n",
    "\n",
    "for e in range(1, epochs+1):\n",
    "    running_loss = 0\n",
    "    correct_train = 0\n",
    "    total_train = 0\n",
    "    model.train()  # Set the model to training mode\n",
    "\n",
    "    # Training with tqdm for progress bar\n",
    "    for images, labels in tqdm(train_loader, desc=f\"Epoch {e}/{epochs} - Training\"):\n",
    "        if train_on_gpu:\n",
    "            images, labels = images.cuda(), labels.cuda()\n",
    "\n",
    "        optimizer.zero_grad()  # Clear the gradients\n",
    "\n",
    "        # Forward pass\n",
    "        ps = model(images)\n",
    "        loss = criterion(ps, labels)\n",
    "\n",
    "        # Backward pass\n",
    "        loss.backward()\n",
    "        optimizer.step()\n",
    "\n",
    "        running_loss += loss.item()\n",
    "\n",
    "        # Calculate training accuracy\n",
    "        _, predicted = torch.max(ps, 1)\n",
    "        total_train += labels.size(0)\n",
    "        correct_train += (predicted == labels).sum().item()\n",
    "\n",
    "    train_loss = running_loss / len(train_loader)\n",
    "    train_accuracy = correct_train / total_train\n",
    "    train_losses.append(train_loss)\n",
    "    train_accuracies.append(train_accuracy)\n",
    "\n",
    "    # Validation\n",
    "    valid_loss = 0\n",
    "    correct_valid = 0\n",
    "    total_valid = 0\n",
    "    model.eval()  # Set the model to evaluation mode\n",
    "\n",
    "    # Validation with tqdm for progress bar\n",
    "    for images, labels in tqdm(valid_loader, desc=f\"Epoch {e}/{epochs} - Validation\"):\n",
    "        if train_on_gpu:\n",
    "            images, labels = images.cuda(), labels.cuda()\n",
    "\n",
    "        ps = model(images)\n",
    "        loss = criterion(ps, labels)\n",
    "\n",
    "        valid_loss += loss.item()\n",
    "\n",
    "        # Calculate validation accuracy\n",
    "        _, predicted = torch.max(ps, 1)\n",
    "        total_valid += labels.size(0)\n",
    "        correct_valid += (predicted == labels).sum().item()\n",
    "\n",
    "    valid_loss /= len(valid_loader)\n",
    "    valid_accuracy = correct_valid / total_valid\n",
    "    valid_losses.append(valid_loss)\n",
    "    valid_accuracies.append(valid_accuracy)\n",
    "\n",
    "    # Print statistics\n",
    "    print(f\"Epoch: {e}/{epochs}.. \\n\"\n",
    "          f\"Training Loss: {train_loss:.3f}.. \\t\"\n",
    "          f\"Training Accuracy: {train_accuracy:.3f}.. \\n\"\n",
    "          f\"Validation Loss: {valid_loss:.3f}.. \\t\"\n",
    "          f\"Validation Accuracy: {valid_accuracy:.3f}\")\n",
    "\n",
    "    # Save the model if there's an improvement in validation loss\n",
    "    if valid_loss < valid_loss_min:\n",
    "        valid_loss_min = valid_loss\n",
    "        torch.save(model.state_dict(), 'model_mtl_mnist.pt')\n",
    "        print('Detected network improvement, saving current model')\n"
   ]
  },
  {
   "cell_type": "code",
   "execution_count": null,
   "id": "b38d428a",
   "metadata": {
    "papermill": {
     "duration": 0.16965,
     "end_time": "2024-04-19T09:35:15.804405",
     "exception": false,
     "start_time": "2024-04-19T09:35:15.634755",
     "status": "completed"
    },
    "tags": []
   },
   "outputs": [],
   "source": []
  }
 ],
 "metadata": {
  "kaggle": {
   "accelerator": "nvidiaTeslaT4",
   "dataSources": [
    {
     "databundleVersionId": 861823,
     "sourceId": 3004,
     "sourceType": "competition"
    }
   ],
   "dockerImageVersionId": 30626,
   "isGpuEnabled": true,
   "isInternetEnabled": false,
   "language": "python",
   "sourceType": "notebook"
  },
  "kernelspec": {
   "display_name": "Python 3",
   "language": "python",
   "name": "python3"
  },
  "language_info": {
   "codemirror_mode": {
    "name": "ipython",
    "version": 3
   },
   "file_extension": ".py",
   "mimetype": "text/x-python",
   "name": "python",
   "nbconvert_exporter": "python",
   "pygments_lexer": "ipython3",
   "version": "3.10.12"
  },
  "papermill": {
   "default_parameters": {},
   "duration": 305.418088,
   "end_time": "2024-04-19T09:35:17.916634",
   "environment_variables": {},
   "exception": null,
   "input_path": "__notebook__.ipynb",
   "output_path": "__notebook__.ipynb",
   "parameters": {},
   "start_time": "2024-04-19T09:30:12.498546",
   "version": "2.4.0"
  }
 },
 "nbformat": 4,
 "nbformat_minor": 5
}
